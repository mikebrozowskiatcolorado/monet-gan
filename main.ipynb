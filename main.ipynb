{
 "cells": [
  {
   "cell_type": "markdown",
   "id": "55f1f8e0",
   "metadata": {},
   "source": [
    "https://www.kaggle.com/competitions/gan-getting-started"
   ]
  },
  {
   "cell_type": "markdown",
   "id": "48baca5a",
   "metadata": {},
   "source": [
    "evaluted by MiFID score\n",
    "\n",
    "deliverable 1 - this notebook\n",
    "- describe problem\n",
    "- exploratory data analysis\n",
    "- model building\n",
    "- conclusion\n",
    "\n",
    "deliverable 2 - github repo\n",
    "\n",
    "deliverable 3 - screenshot of position on kaggle leaderboard"
   ]
  },
  {
   "cell_type": "markdown",
   "id": "890f479e",
   "metadata": {},
   "source": [
    "- describe the problem\n",
    "- describe the dataset\n",
    "- show visualizations of the data\n",
    "- explain strategy based on EDA\n",
    "- explain architecture of model and why i chose it - must be sequential (LSTM, GRU, bidirectional RNN)\n",
    "- compare with other architectures and hyperparameters\n",
    "- show results with visualzations or tables\n",
    "- explain what went well or didn't\n",
    "- summarize with hyperparameter differences / optimization\n",
    "- summarize for conclusion"
   ]
  }
 ],
 "metadata": {
  "language_info": {
   "name": "python"
  }
 },
 "nbformat": 4,
 "nbformat_minor": 5
}
